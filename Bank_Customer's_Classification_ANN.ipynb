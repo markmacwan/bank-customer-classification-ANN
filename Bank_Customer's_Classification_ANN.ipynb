{
  "nbformat": 4,
  "nbformat_minor": 0,
  "metadata": {
    "colab": {
      "name": "Bank Customer's Classification ANN.ipynb",
      "provenance": []
    },
    "kernelspec": {
      "name": "python3",
      "display_name": "Python 3"
    }
  },
  "cells": [
    {
      "cell_type": "code",
      "metadata": {
        "id": "Fj5d4Hh5pt2i",
        "colab_type": "code",
        "colab": {
          "base_uri": "https://localhost:8080/",
          "height": 52
        },
        "outputId": "490da0ea-7b46-41b4-9576-dc92f46e5118"
      },
      "source": [
        "import pandas as pd\n",
        "import numpy as np\n",
        "import matplotlib.pyplot as plt\n",
        "import seaborn as sns\n",
        "\n",
        "%matplotlib inline"
      ],
      "execution_count": 1,
      "outputs": [
        {
          "output_type": "stream",
          "text": [
            "/usr/local/lib/python3.6/dist-packages/statsmodels/tools/_testing.py:19: FutureWarning: pandas.util.testing is deprecated. Use the functions in the public API at pandas.testing instead.\n",
            "  import pandas.util.testing as tm\n"
          ],
          "name": "stderr"
        }
      ]
    },
    {
      "cell_type": "code",
      "metadata": {
        "id": "kA4JrBX3qEbm",
        "colab_type": "code",
        "colab": {}
      },
      "source": [
        "url = 'https://raw.githubusercontent.com/markmacwan/bank-customer-classification-ANN/master/datasets_156197_358170_Churn_Modelling.csv'\n",
        "\n",
        "df = pd.read_csv(url)"
      ],
      "execution_count": 0,
      "outputs": []
    },
    {
      "cell_type": "code",
      "metadata": {
        "id": "lr0SqvCTqYl2",
        "colab_type": "code",
        "colab": {
          "base_uri": "https://localhost:8080/",
          "height": 340
        },
        "outputId": "c102f0f4-ed3d-4efa-85bb-9c848381fc78"
      },
      "source": [
        "df.sample(10)"
      ],
      "execution_count": 3,
      "outputs": [
        {
          "output_type": "execute_result",
          "data": {
            "text/html": [
              "<div>\n",
              "<style scoped>\n",
              "    .dataframe tbody tr th:only-of-type {\n",
              "        vertical-align: middle;\n",
              "    }\n",
              "\n",
              "    .dataframe tbody tr th {\n",
              "        vertical-align: top;\n",
              "    }\n",
              "\n",
              "    .dataframe thead th {\n",
              "        text-align: right;\n",
              "    }\n",
              "</style>\n",
              "<table border=\"1\" class=\"dataframe\">\n",
              "  <thead>\n",
              "    <tr style=\"text-align: right;\">\n",
              "      <th></th>\n",
              "      <th>RowNumber</th>\n",
              "      <th>CustomerId</th>\n",
              "      <th>Surname</th>\n",
              "      <th>CreditScore</th>\n",
              "      <th>Geography</th>\n",
              "      <th>Gender</th>\n",
              "      <th>Age</th>\n",
              "      <th>Tenure</th>\n",
              "      <th>Balance</th>\n",
              "      <th>NumOfProducts</th>\n",
              "      <th>HasCrCard</th>\n",
              "      <th>IsActiveMember</th>\n",
              "      <th>EstimatedSalary</th>\n",
              "      <th>Exited</th>\n",
              "    </tr>\n",
              "  </thead>\n",
              "  <tbody>\n",
              "    <tr>\n",
              "      <th>5480</th>\n",
              "      <td>5481</td>\n",
              "      <td>15659094</td>\n",
              "      <td>Ojiofor</td>\n",
              "      <td>765</td>\n",
              "      <td>Germany</td>\n",
              "      <td>Female</td>\n",
              "      <td>34</td>\n",
              "      <td>8</td>\n",
              "      <td>136729.51</td>\n",
              "      <td>2</td>\n",
              "      <td>0</td>\n",
              "      <td>0</td>\n",
              "      <td>47058.21</td>\n",
              "      <td>0</td>\n",
              "    </tr>\n",
              "    <tr>\n",
              "      <th>6681</th>\n",
              "      <td>6682</td>\n",
              "      <td>15736717</td>\n",
              "      <td>Ma</td>\n",
              "      <td>602</td>\n",
              "      <td>France</td>\n",
              "      <td>Male</td>\n",
              "      <td>31</td>\n",
              "      <td>7</td>\n",
              "      <td>155271.83</td>\n",
              "      <td>1</td>\n",
              "      <td>1</td>\n",
              "      <td>1</td>\n",
              "      <td>179446.31</td>\n",
              "      <td>0</td>\n",
              "    </tr>\n",
              "    <tr>\n",
              "      <th>7524</th>\n",
              "      <td>7525</td>\n",
              "      <td>15620103</td>\n",
              "      <td>Ho</td>\n",
              "      <td>660</td>\n",
              "      <td>France</td>\n",
              "      <td>Female</td>\n",
              "      <td>40</td>\n",
              "      <td>8</td>\n",
              "      <td>167181.01</td>\n",
              "      <td>1</td>\n",
              "      <td>1</td>\n",
              "      <td>1</td>\n",
              "      <td>185156.94</td>\n",
              "      <td>0</td>\n",
              "    </tr>\n",
              "    <tr>\n",
              "      <th>4777</th>\n",
              "      <td>4778</td>\n",
              "      <td>15619801</td>\n",
              "      <td>Batty</td>\n",
              "      <td>548</td>\n",
              "      <td>France</td>\n",
              "      <td>Female</td>\n",
              "      <td>33</td>\n",
              "      <td>1</td>\n",
              "      <td>80107.83</td>\n",
              "      <td>2</td>\n",
              "      <td>0</td>\n",
              "      <td>1</td>\n",
              "      <td>82245.67</td>\n",
              "      <td>0</td>\n",
              "    </tr>\n",
              "    <tr>\n",
              "      <th>6928</th>\n",
              "      <td>6929</td>\n",
              "      <td>15804853</td>\n",
              "      <td>McVey</td>\n",
              "      <td>781</td>\n",
              "      <td>France</td>\n",
              "      <td>Female</td>\n",
              "      <td>48</td>\n",
              "      <td>0</td>\n",
              "      <td>57098.96</td>\n",
              "      <td>1</td>\n",
              "      <td>1</td>\n",
              "      <td>0</td>\n",
              "      <td>85644.06</td>\n",
              "      <td>1</td>\n",
              "    </tr>\n",
              "    <tr>\n",
              "      <th>2589</th>\n",
              "      <td>2590</td>\n",
              "      <td>15701096</td>\n",
              "      <td>De Garis</td>\n",
              "      <td>778</td>\n",
              "      <td>France</td>\n",
              "      <td>Male</td>\n",
              "      <td>44</td>\n",
              "      <td>8</td>\n",
              "      <td>123863.64</td>\n",
              "      <td>1</td>\n",
              "      <td>1</td>\n",
              "      <td>0</td>\n",
              "      <td>144494.94</td>\n",
              "      <td>0</td>\n",
              "    </tr>\n",
              "    <tr>\n",
              "      <th>1670</th>\n",
              "      <td>1671</td>\n",
              "      <td>15716994</td>\n",
              "      <td>Green</td>\n",
              "      <td>559</td>\n",
              "      <td>Spain</td>\n",
              "      <td>Male</td>\n",
              "      <td>24</td>\n",
              "      <td>3</td>\n",
              "      <td>114739.92</td>\n",
              "      <td>1</td>\n",
              "      <td>1</td>\n",
              "      <td>0</td>\n",
              "      <td>85891.02</td>\n",
              "      <td>1</td>\n",
              "    </tr>\n",
              "    <tr>\n",
              "      <th>9836</th>\n",
              "      <td>9837</td>\n",
              "      <td>15777958</td>\n",
              "      <td>Ch'ien</td>\n",
              "      <td>587</td>\n",
              "      <td>France</td>\n",
              "      <td>Male</td>\n",
              "      <td>39</td>\n",
              "      <td>10</td>\n",
              "      <td>0.00</td>\n",
              "      <td>2</td>\n",
              "      <td>1</td>\n",
              "      <td>1</td>\n",
              "      <td>170409.45</td>\n",
              "      <td>0</td>\n",
              "    </tr>\n",
              "    <tr>\n",
              "      <th>7583</th>\n",
              "      <td>7584</td>\n",
              "      <td>15643574</td>\n",
              "      <td>Odinakachukwu</td>\n",
              "      <td>682</td>\n",
              "      <td>France</td>\n",
              "      <td>Male</td>\n",
              "      <td>26</td>\n",
              "      <td>8</td>\n",
              "      <td>0.00</td>\n",
              "      <td>2</td>\n",
              "      <td>1</td>\n",
              "      <td>0</td>\n",
              "      <td>178373.43</td>\n",
              "      <td>0</td>\n",
              "    </tr>\n",
              "    <tr>\n",
              "      <th>5807</th>\n",
              "      <td>5808</td>\n",
              "      <td>15607395</td>\n",
              "      <td>Holt</td>\n",
              "      <td>679</td>\n",
              "      <td>France</td>\n",
              "      <td>Female</td>\n",
              "      <td>33</td>\n",
              "      <td>9</td>\n",
              "      <td>112528.65</td>\n",
              "      <td>2</td>\n",
              "      <td>1</td>\n",
              "      <td>0</td>\n",
              "      <td>177362.45</td>\n",
              "      <td>0</td>\n",
              "    </tr>\n",
              "  </tbody>\n",
              "</table>\n",
              "</div>"
            ],
            "text/plain": [
              "      RowNumber  CustomerId  ... EstimatedSalary  Exited\n",
              "5480       5481    15659094  ...        47058.21       0\n",
              "6681       6682    15736717  ...       179446.31       0\n",
              "7524       7525    15620103  ...       185156.94       0\n",
              "4777       4778    15619801  ...        82245.67       0\n",
              "6928       6929    15804853  ...        85644.06       1\n",
              "2589       2590    15701096  ...       144494.94       0\n",
              "1670       1671    15716994  ...        85891.02       1\n",
              "9836       9837    15777958  ...       170409.45       0\n",
              "7583       7584    15643574  ...       178373.43       0\n",
              "5807       5808    15607395  ...       177362.45       0\n",
              "\n",
              "[10 rows x 14 columns]"
            ]
          },
          "metadata": {
            "tags": []
          },
          "execution_count": 3
        }
      ]
    },
    {
      "cell_type": "code",
      "metadata": {
        "id": "EbNCbtkitoCN",
        "colab_type": "code",
        "colab": {
          "base_uri": "https://localhost:8080/",
          "height": 35
        },
        "outputId": "59b425fe-3627-415b-f963-aaa463251bc9"
      },
      "source": [
        "df.shape"
      ],
      "execution_count": 4,
      "outputs": [
        {
          "output_type": "execute_result",
          "data": {
            "text/plain": [
              "(10000, 14)"
            ]
          },
          "metadata": {
            "tags": []
          },
          "execution_count": 4
        }
      ]
    },
    {
      "cell_type": "code",
      "metadata": {
        "id": "FUh0pBBnup6w",
        "colab_type": "code",
        "colab": {
          "base_uri": "https://localhost:8080/",
          "height": 390
        },
        "outputId": "0562c550-c077-4ace-9cf6-d596fa4d8b9f"
      },
      "source": [
        "df.info()"
      ],
      "execution_count": 5,
      "outputs": [
        {
          "output_type": "stream",
          "text": [
            "<class 'pandas.core.frame.DataFrame'>\n",
            "RangeIndex: 10000 entries, 0 to 9999\n",
            "Data columns (total 14 columns):\n",
            " #   Column           Non-Null Count  Dtype  \n",
            "---  ------           --------------  -----  \n",
            " 0   RowNumber        10000 non-null  int64  \n",
            " 1   CustomerId       10000 non-null  int64  \n",
            " 2   Surname          10000 non-null  object \n",
            " 3   CreditScore      10000 non-null  int64  \n",
            " 4   Geography        10000 non-null  object \n",
            " 5   Gender           10000 non-null  object \n",
            " 6   Age              10000 non-null  int64  \n",
            " 7   Tenure           10000 non-null  int64  \n",
            " 8   Balance          10000 non-null  float64\n",
            " 9   NumOfProducts    10000 non-null  int64  \n",
            " 10  HasCrCard        10000 non-null  int64  \n",
            " 11  IsActiveMember   10000 non-null  int64  \n",
            " 12  EstimatedSalary  10000 non-null  float64\n",
            " 13  Exited           10000 non-null  int64  \n",
            "dtypes: float64(2), int64(9), object(3)\n",
            "memory usage: 1.1+ MB\n"
          ],
          "name": "stdout"
        }
      ]
    },
    {
      "cell_type": "code",
      "metadata": {
        "id": "l-7PjGAzvj3v",
        "colab_type": "code",
        "colab": {
          "base_uri": "https://localhost:8080/",
          "height": 370
        },
        "outputId": "2c5a6379-2ffb-458d-b49f-4d91cb08a60b"
      },
      "source": [
        "df.describe(include='all')\n"
      ],
      "execution_count": 6,
      "outputs": [
        {
          "output_type": "execute_result",
          "data": {
            "text/html": [
              "<div>\n",
              "<style scoped>\n",
              "    .dataframe tbody tr th:only-of-type {\n",
              "        vertical-align: middle;\n",
              "    }\n",
              "\n",
              "    .dataframe tbody tr th {\n",
              "        vertical-align: top;\n",
              "    }\n",
              "\n",
              "    .dataframe thead th {\n",
              "        text-align: right;\n",
              "    }\n",
              "</style>\n",
              "<table border=\"1\" class=\"dataframe\">\n",
              "  <thead>\n",
              "    <tr style=\"text-align: right;\">\n",
              "      <th></th>\n",
              "      <th>RowNumber</th>\n",
              "      <th>CustomerId</th>\n",
              "      <th>Surname</th>\n",
              "      <th>CreditScore</th>\n",
              "      <th>Geography</th>\n",
              "      <th>Gender</th>\n",
              "      <th>Age</th>\n",
              "      <th>Tenure</th>\n",
              "      <th>Balance</th>\n",
              "      <th>NumOfProducts</th>\n",
              "      <th>HasCrCard</th>\n",
              "      <th>IsActiveMember</th>\n",
              "      <th>EstimatedSalary</th>\n",
              "      <th>Exited</th>\n",
              "    </tr>\n",
              "  </thead>\n",
              "  <tbody>\n",
              "    <tr>\n",
              "      <th>count</th>\n",
              "      <td>10000.00000</td>\n",
              "      <td>1.000000e+04</td>\n",
              "      <td>10000</td>\n",
              "      <td>10000.000000</td>\n",
              "      <td>10000</td>\n",
              "      <td>10000</td>\n",
              "      <td>10000.000000</td>\n",
              "      <td>10000.000000</td>\n",
              "      <td>10000.000000</td>\n",
              "      <td>10000.000000</td>\n",
              "      <td>10000.00000</td>\n",
              "      <td>10000.000000</td>\n",
              "      <td>10000.000000</td>\n",
              "      <td>10000.000000</td>\n",
              "    </tr>\n",
              "    <tr>\n",
              "      <th>unique</th>\n",
              "      <td>NaN</td>\n",
              "      <td>NaN</td>\n",
              "      <td>2932</td>\n",
              "      <td>NaN</td>\n",
              "      <td>3</td>\n",
              "      <td>2</td>\n",
              "      <td>NaN</td>\n",
              "      <td>NaN</td>\n",
              "      <td>NaN</td>\n",
              "      <td>NaN</td>\n",
              "      <td>NaN</td>\n",
              "      <td>NaN</td>\n",
              "      <td>NaN</td>\n",
              "      <td>NaN</td>\n",
              "    </tr>\n",
              "    <tr>\n",
              "      <th>top</th>\n",
              "      <td>NaN</td>\n",
              "      <td>NaN</td>\n",
              "      <td>Smith</td>\n",
              "      <td>NaN</td>\n",
              "      <td>France</td>\n",
              "      <td>Male</td>\n",
              "      <td>NaN</td>\n",
              "      <td>NaN</td>\n",
              "      <td>NaN</td>\n",
              "      <td>NaN</td>\n",
              "      <td>NaN</td>\n",
              "      <td>NaN</td>\n",
              "      <td>NaN</td>\n",
              "      <td>NaN</td>\n",
              "    </tr>\n",
              "    <tr>\n",
              "      <th>freq</th>\n",
              "      <td>NaN</td>\n",
              "      <td>NaN</td>\n",
              "      <td>32</td>\n",
              "      <td>NaN</td>\n",
              "      <td>5014</td>\n",
              "      <td>5457</td>\n",
              "      <td>NaN</td>\n",
              "      <td>NaN</td>\n",
              "      <td>NaN</td>\n",
              "      <td>NaN</td>\n",
              "      <td>NaN</td>\n",
              "      <td>NaN</td>\n",
              "      <td>NaN</td>\n",
              "      <td>NaN</td>\n",
              "    </tr>\n",
              "    <tr>\n",
              "      <th>mean</th>\n",
              "      <td>5000.50000</td>\n",
              "      <td>1.569094e+07</td>\n",
              "      <td>NaN</td>\n",
              "      <td>650.528800</td>\n",
              "      <td>NaN</td>\n",
              "      <td>NaN</td>\n",
              "      <td>38.921800</td>\n",
              "      <td>5.012800</td>\n",
              "      <td>76485.889288</td>\n",
              "      <td>1.530200</td>\n",
              "      <td>0.70550</td>\n",
              "      <td>0.515100</td>\n",
              "      <td>100090.239881</td>\n",
              "      <td>0.203700</td>\n",
              "    </tr>\n",
              "    <tr>\n",
              "      <th>std</th>\n",
              "      <td>2886.89568</td>\n",
              "      <td>7.193619e+04</td>\n",
              "      <td>NaN</td>\n",
              "      <td>96.653299</td>\n",
              "      <td>NaN</td>\n",
              "      <td>NaN</td>\n",
              "      <td>10.487806</td>\n",
              "      <td>2.892174</td>\n",
              "      <td>62397.405202</td>\n",
              "      <td>0.581654</td>\n",
              "      <td>0.45584</td>\n",
              "      <td>0.499797</td>\n",
              "      <td>57510.492818</td>\n",
              "      <td>0.402769</td>\n",
              "    </tr>\n",
              "    <tr>\n",
              "      <th>min</th>\n",
              "      <td>1.00000</td>\n",
              "      <td>1.556570e+07</td>\n",
              "      <td>NaN</td>\n",
              "      <td>350.000000</td>\n",
              "      <td>NaN</td>\n",
              "      <td>NaN</td>\n",
              "      <td>18.000000</td>\n",
              "      <td>0.000000</td>\n",
              "      <td>0.000000</td>\n",
              "      <td>1.000000</td>\n",
              "      <td>0.00000</td>\n",
              "      <td>0.000000</td>\n",
              "      <td>11.580000</td>\n",
              "      <td>0.000000</td>\n",
              "    </tr>\n",
              "    <tr>\n",
              "      <th>25%</th>\n",
              "      <td>2500.75000</td>\n",
              "      <td>1.562853e+07</td>\n",
              "      <td>NaN</td>\n",
              "      <td>584.000000</td>\n",
              "      <td>NaN</td>\n",
              "      <td>NaN</td>\n",
              "      <td>32.000000</td>\n",
              "      <td>3.000000</td>\n",
              "      <td>0.000000</td>\n",
              "      <td>1.000000</td>\n",
              "      <td>0.00000</td>\n",
              "      <td>0.000000</td>\n",
              "      <td>51002.110000</td>\n",
              "      <td>0.000000</td>\n",
              "    </tr>\n",
              "    <tr>\n",
              "      <th>50%</th>\n",
              "      <td>5000.50000</td>\n",
              "      <td>1.569074e+07</td>\n",
              "      <td>NaN</td>\n",
              "      <td>652.000000</td>\n",
              "      <td>NaN</td>\n",
              "      <td>NaN</td>\n",
              "      <td>37.000000</td>\n",
              "      <td>5.000000</td>\n",
              "      <td>97198.540000</td>\n",
              "      <td>1.000000</td>\n",
              "      <td>1.00000</td>\n",
              "      <td>1.000000</td>\n",
              "      <td>100193.915000</td>\n",
              "      <td>0.000000</td>\n",
              "    </tr>\n",
              "    <tr>\n",
              "      <th>75%</th>\n",
              "      <td>7500.25000</td>\n",
              "      <td>1.575323e+07</td>\n",
              "      <td>NaN</td>\n",
              "      <td>718.000000</td>\n",
              "      <td>NaN</td>\n",
              "      <td>NaN</td>\n",
              "      <td>44.000000</td>\n",
              "      <td>7.000000</td>\n",
              "      <td>127644.240000</td>\n",
              "      <td>2.000000</td>\n",
              "      <td>1.00000</td>\n",
              "      <td>1.000000</td>\n",
              "      <td>149388.247500</td>\n",
              "      <td>0.000000</td>\n",
              "    </tr>\n",
              "    <tr>\n",
              "      <th>max</th>\n",
              "      <td>10000.00000</td>\n",
              "      <td>1.581569e+07</td>\n",
              "      <td>NaN</td>\n",
              "      <td>850.000000</td>\n",
              "      <td>NaN</td>\n",
              "      <td>NaN</td>\n",
              "      <td>92.000000</td>\n",
              "      <td>10.000000</td>\n",
              "      <td>250898.090000</td>\n",
              "      <td>4.000000</td>\n",
              "      <td>1.00000</td>\n",
              "      <td>1.000000</td>\n",
              "      <td>199992.480000</td>\n",
              "      <td>1.000000</td>\n",
              "    </tr>\n",
              "  </tbody>\n",
              "</table>\n",
              "</div>"
            ],
            "text/plain": [
              "          RowNumber    CustomerId  ... EstimatedSalary        Exited\n",
              "count   10000.00000  1.000000e+04  ...    10000.000000  10000.000000\n",
              "unique          NaN           NaN  ...             NaN           NaN\n",
              "top             NaN           NaN  ...             NaN           NaN\n",
              "freq            NaN           NaN  ...             NaN           NaN\n",
              "mean     5000.50000  1.569094e+07  ...   100090.239881      0.203700\n",
              "std      2886.89568  7.193619e+04  ...    57510.492818      0.402769\n",
              "min         1.00000  1.556570e+07  ...       11.580000      0.000000\n",
              "25%      2500.75000  1.562853e+07  ...    51002.110000      0.000000\n",
              "50%      5000.50000  1.569074e+07  ...   100193.915000      0.000000\n",
              "75%      7500.25000  1.575323e+07  ...   149388.247500      0.000000\n",
              "max     10000.00000  1.581569e+07  ...   199992.480000      1.000000\n",
              "\n",
              "[11 rows x 14 columns]"
            ]
          },
          "metadata": {
            "tags": []
          },
          "execution_count": 6
        }
      ]
    },
    {
      "cell_type": "code",
      "metadata": {
        "id": "zoWpnMA2v7uR",
        "colab_type": "code",
        "colab": {
          "base_uri": "https://localhost:8080/",
          "height": 88
        },
        "outputId": "63cbad43-7f69-48e7-d69b-c63fb0969fc1"
      },
      "source": [
        "df.drop(['RowNumber','CustomerId','Surname'], axis=1, inplace=True)\n",
        "df.columns"
      ],
      "execution_count": 7,
      "outputs": [
        {
          "output_type": "execute_result",
          "data": {
            "text/plain": [
              "Index(['CreditScore', 'Geography', 'Gender', 'Age', 'Tenure', 'Balance',\n",
              "       'NumOfProducts', 'HasCrCard', 'IsActiveMember', 'EstimatedSalary',\n",
              "       'Exited'],\n",
              "      dtype='object')"
            ]
          },
          "metadata": {
            "tags": []
          },
          "execution_count": 7
        }
      ]
    },
    {
      "cell_type": "markdown",
      "metadata": {
        "id": "JOzUrEPMu2Rq",
        "colab_type": "text"
      },
      "source": [
        "### Vizaualization"
      ]
    },
    {
      "cell_type": "code",
      "metadata": {
        "id": "DX8-jPmTu5ih",
        "colab_type": "code",
        "colab": {
          "base_uri": "https://localhost:8080/",
          "height": 513
        },
        "outputId": "1aebdbfc-d697-46d9-b6b8-0c4b8247e83d"
      },
      "source": [
        "plt.figure(figsize=(8,8))\n",
        "sns.countplot(x='Exited', data=df)\n",
        "plt.xlabel('0: Customers still with the bank, 1: Customers exited the bank')\n",
        "plt.ylabel('Count')\n",
        "plt.title('Bank Customers Churn Visualization')\n",
        "plt.show()"
      ],
      "execution_count": 8,
      "outputs": [
        {
          "output_type": "display_data",
          "data": {
            "image/png": "[encoded data removed]",
            "text/plain": [
              "<Figure size 576x576 with 1 Axes>"
            ]
          },
          "metadata": {
            "tags": [],
            "needs_background": "light"
          }
        }
      ]
    },
    {
      "cell_type": "code",
      "metadata": {
        "id": "Uam1JHOLvK5X",
        "colab_type": "code",
        "colab": {
          "base_uri": "https://localhost:8080/",
          "height": 35
        },
        "outputId": "03e5ec43-7dc7-4b49-a36b-ab1a385e24fa"
      },
      "source": [
        "df['Geography'].unique()"
      ],
      "execution_count": 9,
      "outputs": [
        {
          "output_type": "execute_result",
          "data": {
            "text/plain": [
              "array(['France', 'Spain', 'Germany'], dtype=object)"
            ]
          },
          "metadata": {
            "tags": []
          },
          "execution_count": 9
        }
      ]
    },
    {
      "cell_type": "code",
      "metadata": {
        "id": "H-3i8i_y5HNh",
        "colab_type": "code",
        "colab": {}
      },
      "source": [
        "geography = pd.get_dummies(df['Geography'])\n",
        "gender = pd.get_dummies(df['Gender'], drop_first=True)"
      ],
      "execution_count": 0,
      "outputs": []
    },
    {
      "cell_type": "code",
      "metadata": {
        "id": "nqd-_2cT7N00",
        "colab_type": "code",
        "colab": {}
      },
      "source": [
        "df = pd.concat([df, geography, gender], axis=1 )"
      ],
      "execution_count": 0,
      "outputs": []
    },
    {
      "cell_type": "code",
      "metadata": {
        "id": "1-L3lUpF7Otr",
        "colab_type": "code",
        "colab": {}
      },
      "source": [
        "df.drop(['Geography', 'Gender'], axis=1, inplace=True)"
      ],
      "execution_count": 0,
      "outputs": []
    },
    {
      "cell_type": "code",
      "metadata": {
        "id": "EYkrCdcF7i2j",
        "colab_type": "code",
        "colab": {
          "base_uri": "https://localhost:8080/",
          "height": 399
        },
        "outputId": "e6b193fc-0a26-4629-9065-28d2fa3f6178"
      },
      "source": [
        "df"
      ],
      "execution_count": 13,
      "outputs": [
        {
          "output_type": "execute_result",
          "data": {
            "text/html": [
              "<div>\n",
              "<style scoped>\n",
              "    .dataframe tbody tr th:only-of-type {\n",
              "        vertical-align: middle;\n",
              "    }\n",
              "\n",
              "    .dataframe tbody tr th {\n",
              "        vertical-align: top;\n",
              "    }\n",
              "\n",
              "    .dataframe thead th {\n",
              "        text-align: right;\n",
              "    }\n",
              "</style>\n",
              "<table border=\"1\" class=\"dataframe\">\n",
              "  <thead>\n",
              "    <tr style=\"text-align: right;\">\n",
              "      <th></th>\n",
              "      <th>CreditScore</th>\n",
              "      <th>Age</th>\n",
              "      <th>Tenure</th>\n",
              "      <th>Balance</th>\n",
              "      <th>NumOfProducts</th>\n",
              "      <th>HasCrCard</th>\n",
              "      <th>IsActiveMember</th>\n",
              "      <th>EstimatedSalary</th>\n",
              "      <th>Exited</th>\n",
              "      <th>France</th>\n",
              "      <th>Germany</th>\n",
              "      <th>Spain</th>\n",
              "      <th>Male</th>\n",
              "    </tr>\n",
              "  </thead>\n",
              "  <tbody>\n",
              "    <tr>\n",
              "      <th>0</th>\n",
              "      <td>619</td>\n",
              "      <td>42</td>\n",
              "      <td>2</td>\n",
              "      <td>0.00</td>\n",
              "      <td>1</td>\n",
              "      <td>1</td>\n",
              "      <td>1</td>\n",
              "      <td>101348.88</td>\n",
              "      <td>1</td>\n",
              "      <td>1</td>\n",
              "      <td>0</td>\n",
              "      <td>0</td>\n",
              "      <td>0</td>\n",
              "    </tr>\n",
              "    <tr>\n",
              "      <th>1</th>\n",
              "      <td>608</td>\n",
              "      <td>41</td>\n",
              "      <td>1</td>\n",
              "      <td>83807.86</td>\n",
              "      <td>1</td>\n",
              "      <td>0</td>\n",
              "      <td>1</td>\n",
              "      <td>112542.58</td>\n",
              "      <td>0</td>\n",
              "      <td>0</td>\n",
              "      <td>0</td>\n",
              "      <td>1</td>\n",
              "      <td>0</td>\n",
              "    </tr>\n",
              "    <tr>\n",
              "      <th>2</th>\n",
              "      <td>502</td>\n",
              "      <td>42</td>\n",
              "      <td>8</td>\n",
              "      <td>159660.80</td>\n",
              "      <td>3</td>\n",
              "      <td>1</td>\n",
              "      <td>0</td>\n",
              "      <td>113931.57</td>\n",
              "      <td>1</td>\n",
              "      <td>1</td>\n",
              "      <td>0</td>\n",
              "      <td>0</td>\n",
              "      <td>0</td>\n",
              "    </tr>\n",
              "    <tr>\n",
              "      <th>3</th>\n",
              "      <td>699</td>\n",
              "      <td>39</td>\n",
              "      <td>1</td>\n",
              "      <td>0.00</td>\n",
              "      <td>2</td>\n",
              "      <td>0</td>\n",
              "      <td>0</td>\n",
              "      <td>93826.63</td>\n",
              "      <td>0</td>\n",
              "      <td>1</td>\n",
              "      <td>0</td>\n",
              "      <td>0</td>\n",
              "      <td>0</td>\n",
              "    </tr>\n",
              "    <tr>\n",
              "      <th>4</th>\n",
              "      <td>850</td>\n",
              "      <td>43</td>\n",
              "      <td>2</td>\n",
              "      <td>125510.82</td>\n",
              "      <td>1</td>\n",
              "      <td>1</td>\n",
              "      <td>1</td>\n",
              "      <td>79084.10</td>\n",
              "      <td>0</td>\n",
              "      <td>0</td>\n",
              "      <td>0</td>\n",
              "      <td>1</td>\n",
              "      <td>0</td>\n",
              "    </tr>\n",
              "    <tr>\n",
              "      <th>...</th>\n",
              "      <td>...</td>\n",
              "      <td>...</td>\n",
              "      <td>...</td>\n",
              "      <td>...</td>\n",
              "      <td>...</td>\n",
              "      <td>...</td>\n",
              "      <td>...</td>\n",
              "      <td>...</td>\n",
              "      <td>...</td>\n",
              "      <td>...</td>\n",
              "      <td>...</td>\n",
              "      <td>...</td>\n",
              "      <td>...</td>\n",
              "    </tr>\n",
              "    <tr>\n",
              "      <th>9995</th>\n",
              "      <td>771</td>\n",
              "      <td>39</td>\n",
              "      <td>5</td>\n",
              "      <td>0.00</td>\n",
              "      <td>2</td>\n",
              "      <td>1</td>\n",
              "      <td>0</td>\n",
              "      <td>96270.64</td>\n",
              "      <td>0</td>\n",
              "      <td>1</td>\n",
              "      <td>0</td>\n",
              "      <td>0</td>\n",
              "      <td>1</td>\n",
              "    </tr>\n",
              "    <tr>\n",
              "      <th>9996</th>\n",
              "      <td>516</td>\n",
              "      <td>35</td>\n",
              "      <td>10</td>\n",
              "      <td>57369.61</td>\n",
              "      <td>1</td>\n",
              "      <td>1</td>\n",
              "      <td>1</td>\n",
              "      <td>101699.77</td>\n",
              "      <td>0</td>\n",
              "      <td>1</td>\n",
              "      <td>0</td>\n",
              "      <td>0</td>\n",
              "      <td>1</td>\n",
              "    </tr>\n",
              "    <tr>\n",
              "      <th>9997</th>\n",
              "      <td>709</td>\n",
              "      <td>36</td>\n",
              "      <td>7</td>\n",
              "      <td>0.00</td>\n",
              "      <td>1</td>\n",
              "      <td>0</td>\n",
              "      <td>1</td>\n",
              "      <td>42085.58</td>\n",
              "      <td>1</td>\n",
              "      <td>1</td>\n",
              "      <td>0</td>\n",
              "      <td>0</td>\n",
              "      <td>0</td>\n",
              "    </tr>\n",
              "    <tr>\n",
              "      <th>9998</th>\n",
              "      <td>772</td>\n",
              "      <td>42</td>\n",
              "      <td>3</td>\n",
              "      <td>75075.31</td>\n",
              "      <td>2</td>\n",
              "      <td>1</td>\n",
              "      <td>0</td>\n",
              "      <td>92888.52</td>\n",
              "      <td>1</td>\n",
              "      <td>0</td>\n",
              "      <td>1</td>\n",
              "      <td>0</td>\n",
              "      <td>1</td>\n",
              "    </tr>\n",
              "    <tr>\n",
              "      <th>9999</th>\n",
              "      <td>792</td>\n",
              "      <td>28</td>\n",
              "      <td>4</td>\n",
              "      <td>130142.79</td>\n",
              "      <td>1</td>\n",
              "      <td>1</td>\n",
              "      <td>0</td>\n",
              "      <td>38190.78</td>\n",
              "      <td>0</td>\n",
              "      <td>1</td>\n",
              "      <td>0</td>\n",
              "      <td>0</td>\n",
              "      <td>0</td>\n",
              "    </tr>\n",
              "  </tbody>\n",
              "</table>\n",
              "<p>10000 rows × 13 columns</p>\n",
              "</div>"
            ],
            "text/plain": [
              "      CreditScore  Age  Tenure    Balance  ...  France  Germany  Spain  Male\n",
              "0             619   42       2       0.00  ...       1        0      0     0\n",
              "1             608   41       1   83807.86  ...       0        0      1     0\n",
              "2             502   42       8  159660.80  ...       1        0      0     0\n",
              "3             699   39       1       0.00  ...       1        0      0     0\n",
              "4             850   43       2  125510.82  ...       0        0      1     0\n",
              "...           ...  ...     ...        ...  ...     ...      ...    ...   ...\n",
              "9995          771   39       5       0.00  ...       1        0      0     1\n",
              "9996          516   35      10   57369.61  ...       1        0      0     1\n",
              "9997          709   36       7       0.00  ...       1        0      0     0\n",
              "9998          772   42       3   75075.31  ...       0        1      0     1\n",
              "9999          792   28       4  130142.79  ...       1        0      0     0\n",
              "\n",
              "[10000 rows x 13 columns]"
            ]
          },
          "metadata": {
            "tags": []
          },
          "execution_count": 13
        }
      ]
    },
    {
      "cell_type": "code",
      "metadata": {
        "id": "345gzUfx7z4J",
        "colab_type": "code",
        "colab": {}
      },
      "source": [
        "X = df.drop('Exited', axis=1)\n",
        "y = df['Exited']"
      ],
      "execution_count": 0,
      "outputs": []
    },
    {
      "cell_type": "code",
      "metadata": {
        "id": "gy6_DMqOBwrc",
        "colab_type": "code",
        "colab": {}
      },
      "source": [
        "from sklearn.model_selection import train_test_split\n",
        "X_train, X_test, y_train, y_test = train_test_split(X, y, test_size=0.18, random_state=54)"
      ],
      "execution_count": 0,
      "outputs": []
    },
    {
      "cell_type": "code",
      "metadata": {
        "id": "Qqj2Ps9GB1SH",
        "colab_type": "code",
        "colab": {}
      },
      "source": [
        "from sklearn.preprocessing import StandardScaler\n",
        "sc = StandardScaler()\n",
        "X_train = sc.fit_transform(X_train)\n",
        "X_test = sc.transform(X_test)"
      ],
      "execution_count": 0,
      "outputs": []
    },
    {
      "cell_type": "code",
      "metadata": {
        "id": "Qey_kcwJB75V",
        "colab_type": "code",
        "colab": {
          "base_uri": "https://localhost:8080/",
          "height": 35
        },
        "outputId": "f09f495d-84d0-4d56-f381-69bd9116e7ed"
      },
      "source": [
        "import keras\n",
        "from keras.models import Sequential\n",
        "from keras.layers import Dense"
      ],
      "execution_count": 18,
      "outputs": [
        {
          "output_type": "stream",
          "text": [
            "Using TensorFlow backend.\n"
          ],
          "name": "stderr"
        }
      ]
    },
    {
      "cell_type": "code",
      "metadata": {
        "id": "3ZKQCmGoB-1i",
        "colab_type": "code",
        "colab": {}
      },
      "source": [
        "classifier = Sequential()\n",
        "classifier.add(Dense(units=6, kernel_initializer='he_uniform', activation='relu', input_dim=12))\n",
        "classifier.add(Dense(units=6, kernel_initializer='he_uniform', activation='relu'))\n",
        "classifier.add(Dense(units=1, kernel_initializer='glorot_uniform', activation='sigmoid'))\n",
        "classifier.compile(optimizer='adam', loss='binary_crossentropy', metrics=['accuracy'])"
      ],
      "execution_count": 0,
      "outputs": []
    },
    {
      "cell_type": "code",
      "metadata": {
        "id": "qahSk78sCTlV",
        "colab_type": "code",
        "colab": {
          "base_uri": "https://localhost:8080/",
          "height": 1000
        },
        "outputId": "6d9c1716-d9f8-4362-9386-2d95959b01dc"
      },
      "source": [
        "model_history = classifier.fit(X_train, y_train, batch_size=10, validation_split=0.33, epochs=100)"
      ],
      "execution_count": 23,
      "outputs": [
        {
          "output_type": "stream",
          "text": [
            "Train on 5493 samples, validate on 2707 samples\n",
            "Epoch 1/100\n",
            "5493/5493 [==============================] - 1s 194us/step - loss: 0.5502 - accuracy: 0.7943 - val_loss: 0.5184 - val_accuracy: 0.7828\n",
            "Epoch 2/100\n",
            "5493/5493 [==============================] - 1s 143us/step - loss: 0.4792 - accuracy: 0.7976 - val_loss: 0.4789 - val_accuracy: 0.7828\n",
            "Epoch 3/100\n",
            "5493/5493 [==============================] - 1s 144us/step - loss: 0.4467 - accuracy: 0.7970 - val_loss: 0.4600 - val_accuracy: 0.7832\n",
            "Epoch 4/100\n",
            "5493/5493 [==============================] - 1s 142us/step - loss: 0.4302 - accuracy: 0.7977 - val_loss: 0.4514 - val_accuracy: 0.7865\n",
            "Epoch 5/100\n",
            "5493/5493 [==============================] - 1s 143us/step - loss: 0.4217 - accuracy: 0.8014 - val_loss: 0.4452 - val_accuracy: 0.7883\n",
            "Epoch 6/100\n",
            "5493/5493 [==============================] - 1s 141us/step - loss: 0.4156 - accuracy: 0.8047 - val_loss: 0.4420 - val_accuracy: 0.7931\n",
            "Epoch 7/100\n",
            "5493/5493 [==============================] - 1s 148us/step - loss: 0.4094 - accuracy: 0.8079 - val_loss: 0.4378 - val_accuracy: 0.7953\n",
            "Epoch 8/100\n",
            "5493/5493 [==============================] - 1s 144us/step - loss: 0.4031 - accuracy: 0.8112 - val_loss: 0.4317 - val_accuracy: 0.8020\n",
            "Epoch 9/100\n",
            "5493/5493 [==============================] - 1s 144us/step - loss: 0.3942 - accuracy: 0.8178 - val_loss: 0.4233 - val_accuracy: 0.8105\n",
            "Epoch 10/100\n",
            "5493/5493 [==============================] - 1s 147us/step - loss: 0.3851 - accuracy: 0.8229 - val_loss: 0.4138 - val_accuracy: 0.8194\n",
            "Epoch 11/100\n",
            "5493/5493 [==============================] - 1s 145us/step - loss: 0.3757 - accuracy: 0.8320 - val_loss: 0.4044 - val_accuracy: 0.8275\n",
            "Epoch 12/100\n",
            "5493/5493 [==============================] - 1s 141us/step - loss: 0.3684 - accuracy: 0.8438 - val_loss: 0.3997 - val_accuracy: 0.8312\n",
            "Epoch 13/100\n",
            "5493/5493 [==============================] - 1s 146us/step - loss: 0.3625 - accuracy: 0.8442 - val_loss: 0.3941 - val_accuracy: 0.8282\n",
            "Epoch 14/100\n",
            "5493/5493 [==============================] - 1s 141us/step - loss: 0.3587 - accuracy: 0.8476 - val_loss: 0.3909 - val_accuracy: 0.8275\n",
            "Epoch 15/100\n",
            "5493/5493 [==============================] - 1s 144us/step - loss: 0.3548 - accuracy: 0.8494 - val_loss: 0.3879 - val_accuracy: 0.8315\n",
            "Epoch 16/100\n",
            "5493/5493 [==============================] - 1s 140us/step - loss: 0.3541 - accuracy: 0.8522 - val_loss: 0.3869 - val_accuracy: 0.8334\n",
            "Epoch 17/100\n",
            "5493/5493 [==============================] - 1s 147us/step - loss: 0.3508 - accuracy: 0.8527 - val_loss: 0.3811 - val_accuracy: 0.8356\n",
            "Epoch 18/100\n",
            "5493/5493 [==============================] - 1s 143us/step - loss: 0.3486 - accuracy: 0.8531 - val_loss: 0.3793 - val_accuracy: 0.8386\n",
            "Epoch 19/100\n",
            "5493/5493 [==============================] - 1s 143us/step - loss: 0.3468 - accuracy: 0.8544 - val_loss: 0.3772 - val_accuracy: 0.8434\n",
            "Epoch 20/100\n",
            "5493/5493 [==============================] - 1s 143us/step - loss: 0.3449 - accuracy: 0.8565 - val_loss: 0.3775 - val_accuracy: 0.8441\n",
            "Epoch 21/100\n",
            "5493/5493 [==============================] - 1s 146us/step - loss: 0.3434 - accuracy: 0.8596 - val_loss: 0.3755 - val_accuracy: 0.8493\n",
            "Epoch 22/100\n",
            "5493/5493 [==============================] - 1s 147us/step - loss: 0.3417 - accuracy: 0.8600 - val_loss: 0.3744 - val_accuracy: 0.8471\n",
            "Epoch 23/100\n",
            "5493/5493 [==============================] - 1s 145us/step - loss: 0.3407 - accuracy: 0.8609 - val_loss: 0.3732 - val_accuracy: 0.8478\n",
            "Epoch 24/100\n",
            "5493/5493 [==============================] - 1s 144us/step - loss: 0.3397 - accuracy: 0.8618 - val_loss: 0.3719 - val_accuracy: 0.8500\n",
            "Epoch 25/100\n",
            "5493/5493 [==============================] - 1s 144us/step - loss: 0.3381 - accuracy: 0.8609 - val_loss: 0.3713 - val_accuracy: 0.8485\n",
            "Epoch 26/100\n",
            "5493/5493 [==============================] - 1s 149us/step - loss: 0.3379 - accuracy: 0.8609 - val_loss: 0.3708 - val_accuracy: 0.8500\n",
            "Epoch 27/100\n",
            "5493/5493 [==============================] - 1s 141us/step - loss: 0.3365 - accuracy: 0.8624 - val_loss: 0.3717 - val_accuracy: 0.8489\n",
            "Epoch 28/100\n",
            "5493/5493 [==============================] - 1s 142us/step - loss: 0.3355 - accuracy: 0.8618 - val_loss: 0.3695 - val_accuracy: 0.8504\n",
            "Epoch 29/100\n",
            "5493/5493 [==============================] - 1s 144us/step - loss: 0.3349 - accuracy: 0.8615 - val_loss: 0.3697 - val_accuracy: 0.8508\n",
            "Epoch 30/100\n",
            "5493/5493 [==============================] - 1s 142us/step - loss: 0.3328 - accuracy: 0.8615 - val_loss: 0.3676 - val_accuracy: 0.8485\n",
            "Epoch 31/100\n",
            "5493/5493 [==============================] - 1s 142us/step - loss: 0.3329 - accuracy: 0.8624 - val_loss: 0.3662 - val_accuracy: 0.8504\n",
            "Epoch 32/100\n",
            "5493/5493 [==============================] - 1s 141us/step - loss: 0.3327 - accuracy: 0.8609 - val_loss: 0.3655 - val_accuracy: 0.8485\n",
            "Epoch 33/100\n",
            "5493/5493 [==============================] - 1s 142us/step - loss: 0.3313 - accuracy: 0.8631 - val_loss: 0.3667 - val_accuracy: 0.8463\n",
            "Epoch 34/100\n",
            "5493/5493 [==============================] - 1s 146us/step - loss: 0.3317 - accuracy: 0.8626 - val_loss: 0.3646 - val_accuracy: 0.8504\n",
            "Epoch 35/100\n",
            "5493/5493 [==============================] - 1s 145us/step - loss: 0.3303 - accuracy: 0.8629 - val_loss: 0.3647 - val_accuracy: 0.8485\n",
            "Epoch 36/100\n",
            "5493/5493 [==============================] - 1s 144us/step - loss: 0.3300 - accuracy: 0.8640 - val_loss: 0.3659 - val_accuracy: 0.8485\n",
            "Epoch 37/100\n",
            "5493/5493 [==============================] - 1s 147us/step - loss: 0.3299 - accuracy: 0.8620 - val_loss: 0.3665 - val_accuracy: 0.8478\n",
            "Epoch 38/100\n",
            "5493/5493 [==============================] - 1s 152us/step - loss: 0.3295 - accuracy: 0.8629 - val_loss: 0.3649 - val_accuracy: 0.8482\n",
            "Epoch 39/100\n",
            "5493/5493 [==============================] - 1s 143us/step - loss: 0.3289 - accuracy: 0.8649 - val_loss: 0.3653 - val_accuracy: 0.8478\n",
            "Epoch 40/100\n",
            "5493/5493 [==============================] - 1s 146us/step - loss: 0.3286 - accuracy: 0.8644 - val_loss: 0.3658 - val_accuracy: 0.8493\n",
            "Epoch 41/100\n",
            "5493/5493 [==============================] - 1s 141us/step - loss: 0.3287 - accuracy: 0.8646 - val_loss: 0.3641 - val_accuracy: 0.8496\n",
            "Epoch 42/100\n",
            "5493/5493 [==============================] - 1s 142us/step - loss: 0.3279 - accuracy: 0.8653 - val_loss: 0.3647 - val_accuracy: 0.8456\n",
            "Epoch 43/100\n",
            "5493/5493 [==============================] - 1s 146us/step - loss: 0.3276 - accuracy: 0.8640 - val_loss: 0.3626 - val_accuracy: 0.8485\n",
            "Epoch 44/100\n",
            "5493/5493 [==============================] - 1s 147us/step - loss: 0.3276 - accuracy: 0.8646 - val_loss: 0.3636 - val_accuracy: 0.8460\n",
            "Epoch 45/100\n",
            "5493/5493 [==============================] - 1s 147us/step - loss: 0.3273 - accuracy: 0.8646 - val_loss: 0.3644 - val_accuracy: 0.8493\n",
            "Epoch 46/100\n",
            "5493/5493 [==============================] - 1s 147us/step - loss: 0.3272 - accuracy: 0.8640 - val_loss: 0.3642 - val_accuracy: 0.8456\n",
            "Epoch 47/100\n",
            "5493/5493 [==============================] - 1s 146us/step - loss: 0.3268 - accuracy: 0.8660 - val_loss: 0.3625 - val_accuracy: 0.8448\n",
            "Epoch 48/100\n",
            "5493/5493 [==============================] - 1s 145us/step - loss: 0.3266 - accuracy: 0.8627 - val_loss: 0.3633 - val_accuracy: 0.8474\n",
            "Epoch 49/100\n",
            "5493/5493 [==============================] - 1s 142us/step - loss: 0.3269 - accuracy: 0.8651 - val_loss: 0.3630 - val_accuracy: 0.8478\n",
            "Epoch 50/100\n",
            "5493/5493 [==============================] - 1s 143us/step - loss: 0.3266 - accuracy: 0.8656 - val_loss: 0.3620 - val_accuracy: 0.8485\n",
            "Epoch 51/100\n",
            "5493/5493 [==============================] - 1s 147us/step - loss: 0.3260 - accuracy: 0.8640 - val_loss: 0.3632 - val_accuracy: 0.8471\n",
            "Epoch 52/100\n",
            "5493/5493 [==============================] - 1s 147us/step - loss: 0.3264 - accuracy: 0.8647 - val_loss: 0.3635 - val_accuracy: 0.8463\n",
            "Epoch 53/100\n",
            "5493/5493 [==============================] - 1s 145us/step - loss: 0.3262 - accuracy: 0.8638 - val_loss: 0.3635 - val_accuracy: 0.8452\n",
            "Epoch 54/100\n",
            "5493/5493 [==============================] - 1s 148us/step - loss: 0.3259 - accuracy: 0.8642 - val_loss: 0.3620 - val_accuracy: 0.8460\n",
            "Epoch 55/100\n",
            "5493/5493 [==============================] - 1s 147us/step - loss: 0.3263 - accuracy: 0.8646 - val_loss: 0.3637 - val_accuracy: 0.8504\n",
            "Epoch 56/100\n",
            "5493/5493 [==============================] - 1s 143us/step - loss: 0.3260 - accuracy: 0.8638 - val_loss: 0.3620 - val_accuracy: 0.8519\n",
            "Epoch 57/100\n",
            "5493/5493 [==============================] - 1s 144us/step - loss: 0.3259 - accuracy: 0.8644 - val_loss: 0.3630 - val_accuracy: 0.8493\n",
            "Epoch 58/100\n",
            "5493/5493 [==============================] - 1s 145us/step - loss: 0.3262 - accuracy: 0.8633 - val_loss: 0.3618 - val_accuracy: 0.8478\n",
            "Epoch 59/100\n",
            "5493/5493 [==============================] - 1s 146us/step - loss: 0.3257 - accuracy: 0.8629 - val_loss: 0.3612 - val_accuracy: 0.8493\n",
            "Epoch 60/100\n",
            "5493/5493 [==============================] - 1s 144us/step - loss: 0.3260 - accuracy: 0.8627 - val_loss: 0.3635 - val_accuracy: 0.8452\n",
            "Epoch 61/100\n",
            "5493/5493 [==============================] - 1s 147us/step - loss: 0.3252 - accuracy: 0.8644 - val_loss: 0.3616 - val_accuracy: 0.8478\n",
            "Epoch 62/100\n",
            "5493/5493 [==============================] - 1s 145us/step - loss: 0.3256 - accuracy: 0.8646 - val_loss: 0.3635 - val_accuracy: 0.8463\n",
            "Epoch 63/100\n",
            "5493/5493 [==============================] - 1s 144us/step - loss: 0.3255 - accuracy: 0.8655 - val_loss: 0.3614 - val_accuracy: 0.8478\n",
            "Epoch 64/100\n",
            "5493/5493 [==============================] - 1s 149us/step - loss: 0.3256 - accuracy: 0.8642 - val_loss: 0.3610 - val_accuracy: 0.8471\n",
            "Epoch 65/100\n",
            "5493/5493 [==============================] - 1s 142us/step - loss: 0.3252 - accuracy: 0.8646 - val_loss: 0.3619 - val_accuracy: 0.8508\n",
            "Epoch 66/100\n",
            "5493/5493 [==============================] - 1s 143us/step - loss: 0.3252 - accuracy: 0.8646 - val_loss: 0.3603 - val_accuracy: 0.8496\n",
            "Epoch 67/100\n",
            "5493/5493 [==============================] - 1s 144us/step - loss: 0.3252 - accuracy: 0.8647 - val_loss: 0.3627 - val_accuracy: 0.8452\n",
            "Epoch 68/100\n",
            "5493/5493 [==============================] - 1s 141us/step - loss: 0.3252 - accuracy: 0.8638 - val_loss: 0.3625 - val_accuracy: 0.8508\n",
            "Epoch 69/100\n",
            "5493/5493 [==============================] - 1s 144us/step - loss: 0.3251 - accuracy: 0.8638 - val_loss: 0.3618 - val_accuracy: 0.8500\n",
            "Epoch 70/100\n",
            "5493/5493 [==============================] - 1s 142us/step - loss: 0.3246 - accuracy: 0.8638 - val_loss: 0.3605 - val_accuracy: 0.8504\n",
            "Epoch 71/100\n",
            "5493/5493 [==============================] - 1s 144us/step - loss: 0.3245 - accuracy: 0.8642 - val_loss: 0.3603 - val_accuracy: 0.8515\n",
            "Epoch 72/100\n",
            "5493/5493 [==============================] - 1s 144us/step - loss: 0.3249 - accuracy: 0.8646 - val_loss: 0.3603 - val_accuracy: 0.8471\n",
            "Epoch 73/100\n",
            "5493/5493 [==============================] - 1s 144us/step - loss: 0.3244 - accuracy: 0.8658 - val_loss: 0.3602 - val_accuracy: 0.8500\n",
            "Epoch 74/100\n",
            "5493/5493 [==============================] - 1s 149us/step - loss: 0.3247 - accuracy: 0.8660 - val_loss: 0.3602 - val_accuracy: 0.8478\n",
            "Epoch 75/100\n",
            "5493/5493 [==============================] - 1s 145us/step - loss: 0.3239 - accuracy: 0.8640 - val_loss: 0.3612 - val_accuracy: 0.8482\n",
            "Epoch 76/100\n",
            "5493/5493 [==============================] - 1s 143us/step - loss: 0.3245 - accuracy: 0.8656 - val_loss: 0.3609 - val_accuracy: 0.8467\n",
            "Epoch 77/100\n",
            "5493/5493 [==============================] - 1s 148us/step - loss: 0.3245 - accuracy: 0.8673 - val_loss: 0.3613 - val_accuracy: 0.8493\n",
            "Epoch 78/100\n",
            "5493/5493 [==============================] - 1s 142us/step - loss: 0.3236 - accuracy: 0.8647 - val_loss: 0.3593 - val_accuracy: 0.8474\n",
            "Epoch 79/100\n",
            "5493/5493 [==============================] - 1s 145us/step - loss: 0.3242 - accuracy: 0.8646 - val_loss: 0.3609 - val_accuracy: 0.8474\n",
            "Epoch 80/100\n",
            "5493/5493 [==============================] - 1s 147us/step - loss: 0.3243 - accuracy: 0.8655 - val_loss: 0.3606 - val_accuracy: 0.8493\n",
            "Epoch 81/100\n",
            "5493/5493 [==============================] - 1s 147us/step - loss: 0.3240 - accuracy: 0.8642 - val_loss: 0.3611 - val_accuracy: 0.8471\n",
            "Epoch 82/100\n",
            "5493/5493 [==============================] - 1s 146us/step - loss: 0.3238 - accuracy: 0.8649 - val_loss: 0.3594 - val_accuracy: 0.8500\n",
            "Epoch 83/100\n",
            "5493/5493 [==============================] - 1s 147us/step - loss: 0.3247 - accuracy: 0.8640 - val_loss: 0.3612 - val_accuracy: 0.8467\n",
            "Epoch 84/100\n",
            "5493/5493 [==============================] - 1s 148us/step - loss: 0.3239 - accuracy: 0.8655 - val_loss: 0.3592 - val_accuracy: 0.8489\n",
            "Epoch 85/100\n",
            "5493/5493 [==============================] - 1s 146us/step - loss: 0.3237 - accuracy: 0.8640 - val_loss: 0.3608 - val_accuracy: 0.8493\n",
            "Epoch 86/100\n",
            "5493/5493 [==============================] - 1s 144us/step - loss: 0.3233 - accuracy: 0.8673 - val_loss: 0.3617 - val_accuracy: 0.8474\n",
            "Epoch 87/100\n",
            "5493/5493 [==============================] - 1s 147us/step - loss: 0.3236 - accuracy: 0.8675 - val_loss: 0.3599 - val_accuracy: 0.8445\n",
            "Epoch 88/100\n",
            "5493/5493 [==============================] - 1s 148us/step - loss: 0.3239 - accuracy: 0.8642 - val_loss: 0.3597 - val_accuracy: 0.8485\n",
            "Epoch 89/100\n",
            "5493/5493 [==============================] - 1s 151us/step - loss: 0.3232 - accuracy: 0.8658 - val_loss: 0.3604 - val_accuracy: 0.8471\n",
            "Epoch 90/100\n",
            "5493/5493 [==============================] - 1s 147us/step - loss: 0.3233 - accuracy: 0.8656 - val_loss: 0.3603 - val_accuracy: 0.8463\n",
            "Epoch 91/100\n",
            "5493/5493 [==============================] - 1s 142us/step - loss: 0.3238 - accuracy: 0.8644 - val_loss: 0.3632 - val_accuracy: 0.8489\n",
            "Epoch 92/100\n",
            "5493/5493 [==============================] - 1s 148us/step - loss: 0.3232 - accuracy: 0.8649 - val_loss: 0.3593 - val_accuracy: 0.8489\n",
            "Epoch 93/100\n",
            "5493/5493 [==============================] - 1s 150us/step - loss: 0.3239 - accuracy: 0.8646 - val_loss: 0.3594 - val_accuracy: 0.8504\n",
            "Epoch 94/100\n",
            "5493/5493 [==============================] - 1s 147us/step - loss: 0.3233 - accuracy: 0.8646 - val_loss: 0.3595 - val_accuracy: 0.8471\n",
            "Epoch 95/100\n",
            "5493/5493 [==============================] - 1s 147us/step - loss: 0.3233 - accuracy: 0.8678 - val_loss: 0.3594 - val_accuracy: 0.8489\n",
            "Epoch 96/100\n",
            "5493/5493 [==============================] - 1s 143us/step - loss: 0.3233 - accuracy: 0.8656 - val_loss: 0.3595 - val_accuracy: 0.8474\n",
            "Epoch 97/100\n",
            "5493/5493 [==============================] - 1s 144us/step - loss: 0.3234 - accuracy: 0.8646 - val_loss: 0.3607 - val_accuracy: 0.8511\n",
            "Epoch 98/100\n",
            "5493/5493 [==============================] - 1s 148us/step - loss: 0.3236 - accuracy: 0.8649 - val_loss: 0.3597 - val_accuracy: 0.8489\n",
            "Epoch 99/100\n",
            "5493/5493 [==============================] - 1s 142us/step - loss: 0.3234 - accuracy: 0.8644 - val_loss: 0.3607 - val_accuracy: 0.8489\n",
            "Epoch 100/100\n",
            "5493/5493 [==============================] - 1s 146us/step - loss: 0.3234 - accuracy: 0.8644 - val_loss: 0.3603 - val_accuracy: 0.8511\n"
          ],
          "name": "stdout"
        }
      ]
    },
    {
      "cell_type": "code",
      "metadata": {
        "id": "VhpBx9muCYLm",
        "colab_type": "code",
        "colab": {
          "base_uri": "https://localhost:8080/",
          "height": 35
        },
        "outputId": "9e70065a-b2c5-4266-ad32-200b0b6b6245"
      },
      "source": [
        "model_history.history.keys()"
      ],
      "execution_count": 24,
      "outputs": [
        {
          "output_type": "execute_result",
          "data": {
            "text/plain": [
              "dict_keys(['val_loss', 'val_accuracy', 'loss', 'accuracy'])"
            ]
          },
          "metadata": {
            "tags": []
          },
          "execution_count": 24
        }
      ]
    },
    {
      "cell_type": "code",
      "metadata": {
        "id": "-tq65lexC3ym",
        "colab_type": "code",
        "colab": {
          "base_uri": "https://localhost:8080/",
          "height": 513
        },
        "outputId": "0afdd052-ef51-47d1-9d15-6a6ebe6db09f"
      },
      "source": [
        "plt.figure(figsize=(8,8))\n",
        "plt.plot(model_history.history['accuracy'])\n",
        "plt.plot(model_history.history['val_accuracy'])\n",
        "plt.title('Model Accuracy')\n",
        "plt.ylabel('Accuracy')\n",
        "plt.xlabel('Epoch')\n",
        "plt.legend(['Train', 'Test'], loc='lower right')\n",
        "plt.show()"
      ],
      "execution_count": 25,
      "outputs": [
        {
          "output_type": "display_data",
          "data": {
            "image/png": "[encoded data removed]",
            "text/plain": [
              "<Figure size 576x576 with 1 Axes>"
            ]
          },
          "metadata": {
            "tags": [],
            "needs_background": "light"
          }
        }
      ]
    },
    {
      "cell_type": "code",
      "metadata": {
        "id": "lPGnEpmMC6LP",
        "colab_type": "code",
        "colab": {
          "base_uri": "https://localhost:8080/",
          "height": 513
        },
        "outputId": "4c58acce-921b-4380-b44a-e1a58f881d01"
      },
      "source": [
        "plt.figure(figsize=(8,8))\n",
        "plt.plot(model_history.history['loss'])\n",
        "plt.plot(model_history.history['val_loss'])\n",
        "plt.title('Model Loss')\n",
        "plt.ylabel('Loss')\n",
        "plt.xlabel('Epoch')\n",
        "plt.legend(['Train', 'Test'], loc='upper right')\n",
        "plt.show()"
      ],
      "execution_count": 26,
      "outputs": [
        {
          "output_type": "display_data",
          "data": {
            "image/png": "[encoded data removed]",
            "text/plain": [
              "<Figure size 576x576 with 1 Axes>"
            ]
          },
          "metadata": {
            "tags": [],
            "needs_background": "light"
          }
        }
      ]
    },
    {
      "cell_type": "code",
      "metadata": {
        "id": "q_wK7fgRC9Zi",
        "colab_type": "code",
        "colab": {
          "base_uri": "https://localhost:8080/",
          "height": 141
        },
        "outputId": "ffff658d-1904-4c2c-c303-4c00ba3cf8b3"
      },
      "source": [
        "y_pred = classifier.predict(X_test)\n",
        "y_pred = (y_pred > 0.5)\n",
        "y_pred"
      ],
      "execution_count": 30,
      "outputs": [
        {
          "output_type": "execute_result",
          "data": {
            "text/plain": [
              "array([[False],\n",
              "       [False],\n",
              "       [False],\n",
              "       ...,\n",
              "       [False],\n",
              "       [False],\n",
              "       [ True]])"
            ]
          },
          "metadata": {
            "tags": []
          },
          "execution_count": 30
        }
      ]
    },
    {
      "cell_type": "code",
      "metadata": {
        "id": "MqZHPFrjDC4i",
        "colab_type": "code",
        "colab": {
          "base_uri": "https://localhost:8080/",
          "height": 35
        },
        "outputId": "69d494c5-41f0-40d8-b000-1729c6a75295"
      },
      "source": [
        "from sklearn.metrics import accuracy_score\n",
        "score = accuracy_score(y_pred,y_test)\n",
        "print('The accuracy for ANN model is: {}%'.format(score*100))"
      ],
      "execution_count": 31,
      "outputs": [
        {
          "output_type": "stream",
          "text": [
            "The accuracy for ANN model is: 87.5%\n"
          ],
          "name": "stdout"
        }
      ]
    },
    {
      "cell_type": "code",
      "metadata": {
        "id": "HupZ18ucDFxZ",
        "colab_type": "code",
        "colab": {}
      },
      "source": [
        ""
      ],
      "execution_count": 0,
      "outputs": []
    }
  ]
}